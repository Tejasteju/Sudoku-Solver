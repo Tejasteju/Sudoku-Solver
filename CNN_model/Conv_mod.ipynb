{
 "cells": [
  {
   "cell_type": "code",
   "execution_count": null,
   "metadata": {},
   "outputs": [],
   "source": [
    "# importing the required libraries #\n",
    "\n",
    "import numpy as np\n",
    "import h5py\n",
    "import cv2\n",
    "import matplotlib.pyplot as plt\n",
    "import os\n",
    "import random"
   ]
  },
  {
   "cell_type": "code",
   "execution_count": null,
   "metadata": {},
   "outputs": [],
   "source": [
    "datadir = \"<SPECIFY DATA DIRECTORY HERE>\"           # data directory\n",
    "categories = ['0','1','2','3','4','5','6','7','8','9']         # each folder name\n",
    "\n",
    "for category in categories:              \n",
    "    path = os.path.join(datadir, category)\n",
    "    for img in os.listdir(path):\n",
    "        img_array = cv2.imread(os.path.join(path, img), cv2.IMREAD_GRAYSCALE)\n",
    "        plt.imshow(img_array, cmap=\"gray\")\n",
    "        plt.show()\n",
    "        break\n",
    "    break                                     "
   ]
  },
  {
   "cell_type": "code",
   "execution_count": null,
   "metadata": {},
   "outputs": [],
   "source": [
    "print(img_array.shape)               #checking the shape of the image"
   ]
  },
  {
   "cell_type": "code",
   "execution_count": null,
   "metadata": {},
   "outputs": [],
   "source": [
    "IMG_SIZE = 25                   # specify image size\n",
    "\n",
    "new_array = cv2.resize(img_array , (IMG_SIZE, IMG_SIZE))\n",
    "plt.imshow(new_array, cmap = \"gray\")\n",
    "plt.show()"
   ]
  },
  {
   "cell_type": "code",
   "execution_count": null,
   "metadata": {},
   "outputs": [],
   "source": [
    "training_data = []\n",
    "\n",
    "# creating a training data list #\n",
    "\n",
    "def create_train_data():\n",
    "    for category in categories:\n",
    "        path = os.path.join(datadir, category)\n",
    "        class_num = categories.index(category)   # indexing the data for each category\n",
    "        for img in os.listdir(path):\n",
    "            img_array = cv2.imread(os.path.join(path, img), cv2.IMREAD_GRAYSCALE)\n",
    "            new_array = cv2.resize(img_array , (IMG_SIZE, IMG_SIZE))\n",
    "            training_data.append([new_array, class_num])\n",
    "        \n",
    "create_train_data()"
   ]
  },
  {
   "cell_type": "code",
   "execution_count": null,
   "metadata": {},
   "outputs": [],
   "source": [
    "print(len(training_data))              # checking the size of the data set"
   ]
  },
  {
   "cell_type": "code",
   "execution_count": null,
   "metadata": {},
   "outputs": [],
   "source": [
    "random.shuffle(training_data)"
   ]
  },
  {
   "cell_type": "code",
   "execution_count": null,
   "metadata": {},
   "outputs": [],
   "source": [
    "for sample in training_data[:20]:\n",
    "    print(sample[1])\n",
    "    # sample[0] = cv2.addWeighted(sample[0],1.8,np.zeros(sample[0].shape, sample[0].dtype),0,-120)   ## changing the contrast and brightness of the image ##\n",
    "    plt.imshow(sample[0], cmap= \"gray\")\n",
    "    plt.show()"
   ]
  },
  {
   "cell_type": "code",
   "execution_count": null,
   "metadata": {},
   "outputs": [],
   "source": [
    "X = [] \n",
    "Y = []"
   ]
  },
  {
   "cell_type": "code",
   "execution_count": null,
   "metadata": {},
   "outputs": [],
   "source": [
    "for feartures, label in training_data:\n",
    "    Y.append(label)\n",
    "    X.append(feartures)\n",
    "    \n",
    "X = np.array(X).reshape(-1, IMG_SIZE, IMG_SIZE, 1)   "
   ]
  },
  {
   "cell_type": "code",
   "execution_count": null,
   "metadata": {},
   "outputs": [],
   "source": [
    "## saving the data set in hdf format ##\n",
    "\n",
    "with h5py.File('data.h5', 'w') as hdf:\n",
    "    hdf.create_dataset('X_train', data = X)\n",
    "    hdf.create_dataset('Y_train', data = Y)"
   ]
  },
  {
   "cell_type": "code",
   "execution_count": null,
   "metadata": {},
   "outputs": [],
   "source": [
    "## checking the saved data set\n",
    "\n",
    "with h5py.File('data.h5', 'r') as hdf:\n",
    "    ls = list(hdf.keys())\n",
    "    print(ls)\n",
    "    X_train = hdf.get('X_train')\n",
    "    Y_train = hdf.get('Y_train')\n",
    "    print(X_train.shape)\n",
    "    print(Y_train.shape)\n",
    "    print(Y[:10])"
   ]
  }
 ],
 "metadata": {
  "kernelspec": {
   "display_name": "Python 3",
   "language": "python",
   "name": "python3"
  },
  "language_info": {
   "codemirror_mode": {
    "name": "ipython",
    "version": 3
   },
   "file_extension": ".py",
   "mimetype": "text/x-python",
   "name": "python",
   "nbconvert_exporter": "python",
   "pygments_lexer": "ipython3",
   "version": "3.7.9"
  }
 },
 "nbformat": 4,
 "nbformat_minor": 4
}
