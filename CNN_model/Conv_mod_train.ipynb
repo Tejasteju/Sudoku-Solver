{
 "cells": [
  {
   "cell_type": "code",
   "execution_count": null,
   "metadata": {},
   "outputs": [],
   "source": [
    "## importing the required libraries ##\n",
    "\n",
    "import tensorflow as tf\n",
    "from tensorflow.keras.models import Sequential\n",
    "from tensorflow.keras.layers import Dense, Dropout, Activation, Flatten, Conv2D, MaxPooling2D\n",
    "import h5py\n",
    "import numpy as np\n",
    "import keras.utils as kut\n",
    "import cv2\n",
    "import matplotlib.pyplot as plt\n",
    "\n",
    "## get the data set from saved hdf file ##\n",
    "\n",
    "with h5py.File('data.h5', 'r') as hdf:\n",
    "    X_train = np.array(hdf.get('X_train'))\n",
    "    Y_train = np.array(hdf.get('Y_train'))\n",
    "    print(Y_train.shape)"
   ]
  },
  {
   "cell_type": "code",
   "execution_count": null,
   "metadata": {},
   "outputs": [],
   "source": [
    "Y_onehot = kut.to_categorical(Y_train)  ## converting the categories into one_hot list\n",
    "print(Y_onehot[:10])"
   ]
  },
  {
   "cell_type": "code",
   "execution_count": null,
   "metadata": {},
   "outputs": [],
   "source": [
    "X = tf.keras.utils.normalize(X_train, axis=1)  ## normalizing the data set\n",
    "\n",
    "## Convolution Neural Network ##\n",
    "\n",
    "model = Sequential()\n",
    "model.add(Conv2D(64, (5,5), input_shape =X.shape[1:]))\n",
    "model.add(Activation(\"relu\"))\n",
    "model.add(MaxPooling2D(pool_size=(2,2)))\n",
    "\n",
    "model.add(Conv2D(32, (5,5)))\n",
    "model.add(Activation(\"relu\"))\n",
    "model.add(MaxPooling2D(pool_size=(2,2)))\n",
    "\n",
    "model.add(Flatten())\n",
    "\n",
    "model.add(Dense(64, activation=tf.nn.relu))\n",
    "\n",
    "model.add(Dense(32, activation=tf.nn.relu))\n",
    "\n",
    "model.add(Dense(10, activation=tf.nn.softmax))\n",
    "\n",
    "model.compile(optimizer=\"adam\", loss=\"categorical_crossentropy\", metrics=['accuracy'])\n",
    "\n",
    "model.fit(X, Y_onehot, epochs= 20, validation_split = 0.1)"
   ]
  },
  {
   "cell_type": "code",
   "execution_count": null,
   "metadata": {},
   "outputs": [],
   "source": [
    "## saving the model ##\n",
    "model.save('num_reader.model')"
   ]
  },
  {
   "cell_type": "code",
   "execution_count": null,
   "metadata": {},
   "outputs": [],
   "source": [
    "# predictions = model.predict([X])"
   ]
  },
  {
   "cell_type": "code",
   "execution_count": null,
   "metadata": {},
   "outputs": [],
   "source": [
    "# print(predictions)"
   ]
  },
  {
   "cell_type": "code",
   "execution_count": null,
   "metadata": {},
   "outputs": [],
   "source": [
    "# print(np.argmax(predictions[4]))"
   ]
  },
  {
   "cell_type": "code",
   "execution_count": null,
   "metadata": {},
   "outputs": [],
   "source": [
    "## loading the model ##\n",
    "model = tf.keras.models.load_model(\"num_reader.model\")\n",
    "# predictions = model.predict([X])\n",
    "# print(predictions)"
   ]
  },
  {
   "cell_type": "code",
   "execution_count": null,
   "metadata": {},
   "outputs": [],
   "source": [
    "final_string = \"\"\n",
    "\n",
    "## preprocessing the test image ##\n",
    "\n",
    "def preprocess(filepath):\n",
    "    IMG_SIZE = 25\n",
    "    img_array = cv2.imread(filepath, cv2.IMREAD_GRAYSCALE)\n",
    "    img_array = tf.keras.utils.normalize(img_array, axis=1)\n",
    "    new_array = cv2.resize(img_array, (IMG_SIZE, IMG_SIZE))\n",
    "    plt.imshow(new_array, cmap ='gray')\n",
    "    plt.show()\n",
    "    print(prediction)\n",
    "    return new_array.reshape(-1,IMG_SIZE, IMG_SIZE, 1)\n",
    "\n",
    "for square in range(81):\n",
    "    prediction = np.argmax(model.predict([preprocess(\"<file path>\")])) # predicting on test images\n",
    "    final_string+=str(prediction) \n"
   ]
  },
  {
   "cell_type": "code",
   "execution_count": null,
   "metadata": {},
   "outputs": [],
   "source": [
    "print(final_string)\n",
    "print(len(final_string))"
   ]
  }
 ],
 "metadata": {
  "kernelspec": {
   "display_name": "Python 3",
   "language": "python",
   "name": "python3"
  },
  "language_info": {
   "codemirror_mode": {
    "name": "ipython",
    "version": 3
   },
   "file_extension": ".py",
   "mimetype": "text/x-python",
   "name": "python",
   "nbconvert_exporter": "python",
   "pygments_lexer": "ipython3",
   "version": "3.7.9"
  }
 },
 "nbformat": 4,
 "nbformat_minor": 4
}
